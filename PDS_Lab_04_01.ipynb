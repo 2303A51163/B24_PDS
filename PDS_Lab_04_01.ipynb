{
  "nbformat": 4,
  "nbformat_minor": 0,
  "metadata": {
    "colab": {
      "provenance": [],
      "authorship_tag": "ABX9TyPi1U/S+6avV2VfotLxAdRO",
      "include_colab_link": true
    },
    "kernelspec": {
      "name": "python3",
      "display_name": "Python 3"
    },
    "language_info": {
      "name": "python"
    }
  },
  "cells": [
    {
      "cell_type": "markdown",
      "metadata": {
        "id": "view-in-github",
        "colab_type": "text"
      },
      "source": [
        "<a href=\"https://colab.research.google.com/github/2303A51163/B24_PDS/blob/main/PDS_Lab_04_01.ipynb\" target=\"_parent\"><img src=\"https://colab.research.google.com/assets/colab-badge.svg\" alt=\"Open In Colab\"/></a>"
      ]
    },
    {
      "cell_type": "code",
      "source": [
        "import pandas as pd"
      ],
      "metadata": {
        "id": "VgVHnCsHPwNV"
      },
      "execution_count": 10,
      "outputs": []
    },
    {
      "cell_type": "code",
      "source": [
        "df = pd.read_csv(\"course_feedback.csv\")\n"
      ],
      "metadata": {
        "id": "VRz4LrHwQFG6"
      },
      "execution_count": 11,
      "outputs": []
    },
    {
      "cell_type": "code",
      "source": [
        "df = df.dropna(subset=[\"Rating\"])"
      ],
      "metadata": {
        "id": "gtS2GQE4QHcX"
      },
      "execution_count": 12,
      "outputs": []
    },
    {
      "cell_type": "code",
      "source": [
        "filtered = df[\n",
        "    (df[\"Course_Name\"] == \"Python for Data Science\") &\n",
        "    (df[\"Rating\"] >= 4)\n",
        "]"
      ],
      "metadata": {
        "id": "6MDQ0sEXQQXy"
      },
      "execution_count": 13,
      "outputs": []
    },
    {
      "cell_type": "code",
      "source": [
        "result = filtered[[\"User_ID\", \"Feedback\"]]\n",
        "\n",
        "print(\"Meaningful Feedback for 'Python for Data Science':\\n\")\n",
        "print(result.to_string(index=False))\n"
      ],
      "metadata": {
        "colab": {
          "base_uri": "https://localhost:8080/"
        },
        "id": "HyRK0zruQUzg",
        "outputId": "763fb993-f871-44d5-9a1f-018ee979a33a"
      },
      "execution_count": 14,
      "outputs": [
        {
          "output_type": "stream",
          "name": "stdout",
          "text": [
            "Meaningful Feedback for 'Python for Data Science':\n",
            "\n",
            "User_ID                        Feedback\n",
            "   U001 Great course, very informative!\n",
            "   U002 Good explanations and examples.\n"
          ]
        }
      ]
    }
  ]
}