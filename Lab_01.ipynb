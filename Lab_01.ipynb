{
  "nbformat": 4,
  "nbformat_minor": 0,
  "metadata": {
    "colab": {
      "provenance": [],
      "authorship_tag": "ABX9TyMSppU5eV6r/LUTIjuVyD4j",
      "include_colab_link": true
    },
    "kernelspec": {
      "name": "python3",
      "display_name": "Python 3"
    },
    "language_info": {
      "name": "python"
    }
  },
  "cells": [
    {
      "cell_type": "markdown",
      "metadata": {
        "id": "view-in-github",
        "colab_type": "text"
      },
      "source": [
        "<a href=\"https://colab.research.google.com/github/2303A51163/B24_PDS/blob/main/Lab_01.ipynb\" target=\"_parent\"><img src=\"https://colab.research.google.com/assets/colab-badge.svg\" alt=\"Open In Colab\"/></a>"
      ]
    },
    {
      "cell_type": "code",
      "execution_count": null,
      "metadata": {
        "id": "JgvjNz-2xCR3"
      },
      "outputs": [],
      "source": [
        "def factorial(n, depth=0):\n",
        "    indent = \"  \" * depth\n",
        "    print(f\"{indent}factorial({n}) called\")\n",
        "\n",
        "    if n == 0 or n == 1:\n",
        "        print(f\"{indent}Base case reached: return 1\")\n",
        "        return 1\n",
        "    else:\n",
        "        print(f\"{indent}Recursive step: return {n} * factorial({n - 1})\")\n",
        "        result = n * factorial(n - 1, depth + 1)\n",
        "        print(f\"{indent}Returning: {n} * factorial({n - 1}) = {result}\")\n",
        "        return result\n",
        "\n",
        "number = int(input(\"Enter a number: \"))\n",
        "\n",
        "if number < 0:\n",
        "    print(\"Factorial is not defined for negative numbers.\")\n",
        "else:\n",
        "    result = factorial(number)\n",
        "    print(f\"The factorial of {number} is {result}\")\n",
        "\n"
      ]
    }
  ]
}