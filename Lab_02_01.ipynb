{
  "nbformat": 4,
  "nbformat_minor": 0,
  "metadata": {
    "colab": {
      "provenance": [],
      "authorship_tag": "ABX9TyP39hdtv9vWR9OE9Ew3cuSe",
      "include_colab_link": true
    },
    "kernelspec": {
      "name": "python3",
      "display_name": "Python 3"
    },
    "language_info": {
      "name": "python"
    }
  },
  "cells": [
    {
      "cell_type": "markdown",
      "metadata": {
        "id": "view-in-github",
        "colab_type": "text"
      },
      "source": [
        "<a href=\"https://colab.research.google.com/github/2303A51163/B24_PDS/blob/main/Lab_02_01.ipynb\" target=\"_parent\"><img src=\"https://colab.research.google.com/assets/colab-badge.svg\" alt=\"Open In Colab\"/></a>"
      ]
    },
    {
      "cell_type": "code",
      "execution_count": 1,
      "metadata": {
        "id": "7_iMg8VdxELC"
      },
      "outputs": [],
      "source": [
        "import numpy as np\n",
        "import pandas as pd"
      ]
    },
    {
      "cell_type": "code",
      "source": [
        "temp=np.array([29,23,28,38,45,42,35,32,30,29,26,21])\n",
        "print(\"monthly temperatures are: \",temp)"
      ],
      "metadata": {
        "colab": {
          "base_uri": "https://localhost:8080/"
        },
        "id": "9XYZ8NwX4e4K",
        "outputId": "2c08558f-26ad-47a5-afdb-e8775c46fd68"
      },
      "execution_count": 2,
      "outputs": [
        {
          "output_type": "stream",
          "name": "stdout",
          "text": [
            "monthly temperatures are:  [29 23 28 38 45 42 35 32 30 29 26 21]\n"
          ]
        }
      ]
    },
    {
      "cell_type": "code",
      "source": [
        "average_temp=np.mean(temp)\n",
        "print(\"average temperature is: \",average_temp)"
      ],
      "metadata": {
        "colab": {
          "base_uri": "https://localhost:8080/"
        },
        "id": "se-9OSPD5Oc_",
        "outputId": "20ce5aa9-6e0f-436a-a209-6ae8f2913fd2"
      },
      "execution_count": 5,
      "outputs": [
        {
          "output_type": "stream",
          "name": "stdout",
          "text": [
            "average temperature is:  31.5\n"
          ]
        }
      ]
    },
    {
      "cell_type": "code",
      "source": [
        "hottest_month = np.argmax(temp) + 1\n",
        "coldest_month = np.argmin(temp) + 1\n",
        "print(\"hottest month is: \",hottest_month)\n",
        "print(\"coldest month is: \",coldest_month)"
      ],
      "metadata": {
        "colab": {
          "base_uri": "https://localhost:8080/"
        },
        "id": "PcNptMat5nOK",
        "outputId": "a6177948-baaa-4f67-e56a-fee3012ac116"
      },
      "execution_count": 7,
      "outputs": [
        {
          "output_type": "stream",
          "name": "stdout",
          "text": [
            "hottest month is:  5\n",
            "coldest month is:  12\n"
          ]
        }
      ]
    },
    {
      "cell_type": "code",
      "source": [
        "normalized_temps = (temp - np.min(temp)) / (np.max(temp) - np.min(temp))\n",
        "print(\"normalised temparature are:\",normalized_temps)"
      ],
      "metadata": {
        "colab": {
          "base_uri": "https://localhost:8080/"
        },
        "id": "rwXMatO-6Bxc",
        "outputId": "097540af-7e8b-4789-86ec-07ea4b0c55dd"
      },
      "execution_count": 11,
      "outputs": [
        {
          "output_type": "stream",
          "name": "stdout",
          "text": [
            "normalised temparature are [0.33333333 0.08333333 0.29166667 0.70833333 1.         0.875\n",
            " 0.58333333 0.45833333 0.375      0.33333333 0.20833333 0.        ]\n"
          ]
        }
      ]
    },
    {
      "cell_type": "code",
      "source": [
        "months_above_average =(temp > average_temp)\n",
        "print(\"number of months above average temperature is: \",months_above_average)"
      ],
      "metadata": {
        "colab": {
          "base_uri": "https://localhost:8080/"
        },
        "id": "ITnP9EiZ7H-k",
        "outputId": "5fdb4a95-fb77-47df-81d4-5171abbd1b6a"
      },
      "execution_count": 13,
      "outputs": [
        {
          "output_type": "stream",
          "name": "stdout",
          "text": [
            "number of months above average temperature is:  [False False False  True  True  True  True  True False False False False]\n"
          ]
        }
      ]
    },
    {
      "cell_type": "code",
      "source": [
        "monthly_temps_f = temp * 9/5 + 32\n",
        "print(monthly_temps_f)"
      ],
      "metadata": {
        "colab": {
          "base_uri": "https://localhost:8080/"
        },
        "id": "r1eIRF3l77Ub",
        "outputId": "1f7fbd50-3566-45b7-ee3b-d037bfccfe14"
      },
      "execution_count": 16,
      "outputs": [
        {
          "output_type": "stream",
          "name": "stdout",
          "text": [
            "[ 84.2  73.4  82.4 100.4 113.  107.6  95.   89.6  86.   84.2  78.8  69.8]\n"
          ]
        }
      ]
    }
  ]
}